{
 "cells": [
  {
   "cell_type": "code",
   "execution_count": 1,
   "metadata": {},
   "outputs": [],
   "source": [
    "import torch\n",
    "import numpy as np\n",
    "import torch.nn as nn\n",
    "import random\n",
    "import itertools\n",
    "import pickle\n",
    "import torch.nn.functional as F\n",
    "import os"
   ]
  },
  {
   "cell_type": "code",
   "execution_count": 2,
   "metadata": {},
   "outputs": [],
   "source": [
    "BATCH_SIZE=32\n",
    "EPOCHS=200"
   ]
  },
  {
   "cell_type": "code",
   "execution_count": 18,
   "metadata": {},
   "outputs": [
    {
     "data": {
      "text/plain": [
       "<All keys matched successfully>"
      ]
     },
     "execution_count": 18,
     "metadata": {},
     "output_type": "execute_result"
    }
   ],
   "source": [
    "device='cuda'\n",
    "class mark(nn.Module):\n",
    "    def __init__(self, in_channels, out_channels):\n",
    "        super(mark, self).__init__()\n",
    "        \n",
    "        # Depthwise Convolution1\n",
    "        self.depthwise1 = nn.Conv2d(\n",
    "            in_channels, in_channels, kernel_size=3, stride=1, padding=1, bias=False\n",
    "        )\n",
    "        self.bn1 = nn.BatchNorm2d(in_channels)\n",
    "        # Pointwise Convolution1\n",
    "        self.pointwise1 = nn.Conv2d(\n",
    "            in_channels, out_channels, kernel_size=1, stride=1, padding=0, bias=False\n",
    "        )\n",
    "        self.bn2 = nn.BatchNorm2d(out_channels)\n",
    "        self.maxpool1 = nn.MaxPool2d(kernel_size=3, stride=2)\n",
    "\n",
    "        # Depthwise Convolution2\n",
    "        self.depthwise2 = nn.Conv2d(\n",
    "            out_channels, out_channels, kernel_size=3, stride=1, padding=1, bias=False\n",
    "        )\n",
    "        self.bn3 = nn.BatchNorm2d(out_channels)\n",
    "        # Pointwise Convolution2\n",
    "        self.pointwise2 = nn.Conv2d(\n",
    "            out_channels, out_channels, kernel_size=1, stride=1, padding=0, bias=False\n",
    "        )\n",
    "        self.bn4 = nn.BatchNorm2d(out_channels)\n",
    "        self.maxpool2 = nn.MaxPool2d(kernel_size=3, stride=2)\n",
    "\n",
    "        #Linear layers\n",
    "        self.fc1=nn.Linear(32*55*55, 256)\n",
    "        self.bn5 = nn.BatchNorm1d(256)\n",
    "        self.fc2=nn.Linear(256, 256)\n",
    "        self.bn6 = nn.BatchNorm1d(256)\n",
    "        self.fc3=nn.Linear(256, 5)\n",
    "    def forward(self, chart):\n",
    "        chart = chart.to(device)\n",
    "        chart_out=F.relu(self.bn1(self.depthwise1(chart)))\n",
    "        chart_out=F.relu(self.maxpool1(self.bn2(self.pointwise1(chart_out))))   \n",
    "        chart_out=F.relu(self.bn3(self.depthwise2(chart_out)))\n",
    "        chart_out=F.relu(self.maxpool2(self.bn4(self.pointwise2(chart_out))))\n",
    "        chart_out = chart_out.view(chart.shape[0],-1)\n",
    "        \n",
    "        chart_out = F.relu(self.bn5(self.fc1(chart_out)))\n",
    "        chart_out = F.relu(self.bn6(self.fc2(chart_out)))\n",
    "        chart_out = F.softmax(self.fc3(chart_out))\n",
    "        return chart_out\n",
    "\n",
    "\n",
    "model = mark(3,32).to(device)\n",
    "best_model = mark(3,32).to(device)\n",
    "optimizer=torch.optim.Adam(model.parameters(), lr=1e-2,weight_decay=5e-4)\n",
    "best_model.load_state_dict(model.state_dict())\n"
   ]
  },
  {
   "cell_type": "code",
   "execution_count": 5,
   "metadata": {},
   "outputs": [],
   "source": [
    "def get_filenames_without_extension(folder_path, extension=\".pkl\"):\n",
    "    filenames = []\n",
    "    for filename in os.listdir(folder_path):\n",
    "        if filename.endswith(extension):\n",
    "            filenames.append(filename[:-len(extension)])\n",
    "    return filenames\n",
    "tickers = get_filenames_without_extension(\"data\")"
   ]
  },
  {
   "cell_type": "code",
   "execution_count": 6,
   "metadata": {},
   "outputs": [],
   "source": [
    "#stacking all data in x (features, image in our case ) and y (labels one hot encoded)\n",
    "x=[]\n",
    "y=[]\n",
    "for i in range(0,len(tickers)):\n",
    "    with open(f'data//{tickers[i]}.pkl', 'rb') as f:\n",
    "        data_list = pickle.load(f)\n",
    "    data=data_list[0]\n",
    "    chart=data[0]\n",
    "    chart=torch.from_numpy(chart).float()\n",
    "    chart = chart.permute(2,0,1)\n",
    "    x.append(chart)\n",
    "    target=data[1]\n",
    "    target=torch.from_numpy(target).float()\n",
    "    y.append(target)\n",
    "    del data_list\n",
    "x = torch.stack(x)\n",
    "y = torch.stack(y)"
   ]
  },
  {
   "cell_type": "code",
   "execution_count": 7,
   "metadata": {},
   "outputs": [],
   "source": [
    "#Split our dataset into training and testing sets. I'm using del to free the memory space\n",
    "x_train=x[0:int(len(x)*0.8)]\n",
    "y_train=y[0:int(len(x)*0.8)]\n",
    "x_test=x[int(len(x)*0.8):]\n",
    "y_test=y[int(len(x)*0.8):]\n",
    "del x\n",
    "del y"
   ]
  },
  {
   "cell_type": "code",
   "execution_count": null,
   "metadata": {},
   "outputs": [],
   "source": [
    "best_accuracy=0\n",
    "crit=nn.CrossEntropyLoss()\n",
    "torch.cuda.empty_cache()\n",
    "x_train=x_train.to(device)\n",
    "y_train=y_train.to(device)\n",
    "for epoch in range(EPOCHS):\n",
    "    correct = 0\n",
    "    total = 0\n",
    "    for i in range(0,len(x_train)-BATCH_SIZE,BATCH_SIZE):\n",
    "        #forward\n",
    "        y_hat=model(x_train[i:i+BATCH_SIZE]).to(device)\n",
    "        loss=crit(y_train[i:i+BATCH_SIZE],y_hat)\n",
    "        #backward pass\n",
    "        optimizer.zero_grad()\n",
    "        loss.backward()\n",
    "        optimizer.step()\n",
    "        _, predicted = torch.max(y_hat, 1)\n",
    "        y_train_indices = torch.argmax(y_train[i:i + BATCH_SIZE], dim=1)\n",
    "        correct += (predicted == y_train_indices).sum().item()\n",
    "        total += BATCH_SIZE\n",
    "    \n",
    "    accuracy = correct / total\n",
    "    if accuracy>=best_accuracy:\n",
    "        best_model.load_state_dict(model.state_dict())\n",
    "        best_accuracy=accuracy\n",
    "    print('accuracy: ',accuracy)\n",
    "    print('best_accuracy: ',best_accuracy)\n"
   ]
  }
 ],
 "metadata": {
  "kernelspec": {
   "display_name": "myenv",
   "language": "python",
   "name": "python3"
  },
  "language_info": {
   "codemirror_mode": {
    "name": "ipython",
    "version": 3
   },
   "file_extension": ".py",
   "mimetype": "text/x-python",
   "name": "python",
   "nbconvert_exporter": "python",
   "pygments_lexer": "ipython3",
   "version": "3.11.5"
  }
 },
 "nbformat": 4,
 "nbformat_minor": 2
}
